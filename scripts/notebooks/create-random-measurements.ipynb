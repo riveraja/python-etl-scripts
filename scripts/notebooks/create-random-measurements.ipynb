{
 "cells": [
  {
   "cell_type": "markdown",
   "metadata": {},
   "source": [
    "## Random temperature measurements from base file\n",
    "\n",
    "This requires <kbd>csvfiles/weather.csv</kbd> to be present Generate it using the <kbd>scrape-wikipedia-site</kbd> notebook.\n",
    "\n",
    "Inspired by the 1 billion row challenge <kbd>CreateMeasurements.java</kbd> script."
   ]
  },
  {
   "cell_type": "code",
   "execution_count": null,
   "metadata": {},
   "outputs": [],
   "source": [
    "import pandas as pd\n",
    "from pydantic import BaseModel\n",
    "\n",
    "class weatherstation(BaseModel):\n",
    "    station: str\n",
    "    temp: float\n",
    "\n",
    "file = pd.read_csv('../csvfiles/weather.csv', sep=',').iloc[:, 1:]\n",
    "\n",
    "cities = []\n",
    "for linenum in range(len(file)):\n",
    "    cities.append(weatherstation(station=file.loc[linenum].iloc[1], temp=file.loc[linenum].iloc[14]))\n"
   ]
  },
  {
   "cell_type": "code",
   "execution_count": null,
   "metadata": {},
   "outputs": [],
   "source": [
    "import random\n",
    "from datetime import datetime\n",
    "\n",
    "size = 1000000\n",
    "\n",
    "start = datetime.now()\n",
    "\n",
    "with open('../textfiles/randomtemps.txt', 'a', buffering=1) as file:\n",
    "    for i in range(size):\n",
    "        if i > 0 and i % 50000 == 0:\n",
    "            print(f\"Wrote {i} measurements in {datetime.now() - start}\")\n",
    "        \n",
    "        random_city = random.choice(cities)\n",
    "        gaussian_temp = random.gauss(random_city.temp, 10)\n",
    "        file.write(f\"{random_city.station};{round(gaussian_temp, 2)}\\n\")\n",
    "\n",
    "print(f\"Created file with {size} measurements in {datetime.now() - start}\")"
   ]
  }
 ],
 "metadata": {
  "kernelspec": {
   "display_name": ".venv",
   "language": "python",
   "name": "python3"
  },
  "language_info": {
   "codemirror_mode": {
    "name": "ipython",
    "version": 3
   },
   "file_extension": ".py",
   "mimetype": "text/x-python",
   "name": "python",
   "nbconvert_exporter": "python",
   "pygments_lexer": "ipython3",
   "version": "3.12.2"
  }
 },
 "nbformat": 4,
 "nbformat_minor": 2
}
