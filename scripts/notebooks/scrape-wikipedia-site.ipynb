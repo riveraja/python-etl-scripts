{
 "cells": [
  {
   "cell_type": "markdown",
   "metadata": {},
   "source": [
    "## Scrape wikipedia site: List of cities average temperature"
   ]
  },
  {
   "cell_type": "markdown",
   "metadata": {},
   "source": [
    "Import the libraries needed in the next steps."
   ]
  },
  {
   "cell_type": "code",
   "execution_count": null,
   "metadata": {},
   "outputs": [],
   "source": [
    "from bs4 import BeautifulSoup\n",
    "import requests"
   ]
  },
  {
   "cell_type": "markdown",
   "metadata": {},
   "source": [
    "Prepare the URL and starting using BeautifulSoup4 to parse the site."
   ]
  },
  {
   "cell_type": "code",
   "execution_count": null,
   "metadata": {},
   "outputs": [],
   "source": [
    "URL = 'https://en.wikipedia.org/wiki/List_of_cities_by_average_temperature'\n",
    "page = requests.get(URL)\n",
    "soup = BeautifulSoup(page.text, 'html')\n",
    "soup"
   ]
  },
  {
   "cell_type": "markdown",
   "metadata": {},
   "source": [
    "Let's extract the column headers."
   ]
  },
  {
   "cell_type": "code",
   "execution_count": null,
   "metadata": {},
   "outputs": [],
   "source": [
    "import re\n",
    "\n",
    "regex = re.compile(r'^wikitable .')\n",
    "# column_headers = []\n",
    "table = soup.find('table', regex)\n",
    "header = table.find_all('th')\n",
    "column_headers = [th.text.strip() for th in header]\n",
    "column_headers = column_headers[:-1]\n",
    "column_headers"
   ]
  },
  {
   "cell_type": "markdown",
   "metadata": {},
   "source": [
    "Start extracting the temperature data from the soup."
   ]
  },
  {
   "cell_type": "code",
   "execution_count": null,
   "metadata": {},
   "outputs": [],
   "source": [
    "div_table = soup.find('div', class_='mw-body-content')\n",
    "\n",
    "table = div_table.find_all('table', class_=regex)"
   ]
  },
  {
   "cell_type": "code",
   "execution_count": null,
   "metadata": {},
   "outputs": [],
   "source": [
    "tbody = [r.find('tbody').find_all('tr') for r in table]"
   ]
  },
  {
   "cell_type": "code",
   "execution_count": null,
   "metadata": {},
   "outputs": [],
   "source": [
    "continent = []\n",
    "for t in range(len(tbody)):\n",
    "    city = []\n",
    "    for r in range(len(tbody[t])):\n",
    "        row = [tbody[t][r].find_all('td')[l].text.strip().split('(')[0].replace('−','-') for l in range(len(tbody[t][r].find_all('td')))]\n",
    "        city.append(row[:-1])\n",
    "    continent.append(city)"
   ]
  },
  {
   "cell_type": "code",
   "execution_count": null,
   "metadata": {},
   "outputs": [],
   "source": [
    "import pandas as pd\n",
    "\n",
    "df = pd.DataFrame(columns=column_headers)\n",
    "df"
   ]
  },
  {
   "cell_type": "code",
   "execution_count": null,
   "metadata": {},
   "outputs": [],
   "source": [
    "continent_count = len(continent)\n",
    "\n",
    "for r in range(continent_count):\n",
    "    city_count = len(continent[r])\n",
    "    l = 1\n",
    "    while l < city_count - 1:\n",
    "        l += 1\n",
    "        df_len = len(df)\n",
    "        df.loc[df_len] = continent[r][l]"
   ]
  },
  {
   "cell_type": "code",
   "execution_count": null,
   "metadata": {},
   "outputs": [],
   "source": [
    "df.to_csv('../csvfiles/weather.csv')"
   ]
  }
 ],
 "metadata": {
  "kernelspec": {
   "display_name": ".venv",
   "language": "python",
   "name": "python3"
  },
  "language_info": {
   "codemirror_mode": {
    "name": "ipython",
    "version": 3
   },
   "file_extension": ".py",
   "mimetype": "text/x-python",
   "name": "python",
   "nbconvert_exporter": "python",
   "pygments_lexer": "ipython3",
   "version": "3.12.2"
  }
 },
 "nbformat": 4,
 "nbformat_minor": 2
}
