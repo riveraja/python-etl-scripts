{
 "cells": [
  {
   "cell_type": "markdown",
   "metadata": {},
   "source": [
    "Scans the `weather.csv` file and get min/max/average temperature per location.\n",
    "\n",
    "Make sure to run the `scrape-wikipedia-site.ipynb` first to generate the required CSV file."
   ]
  },
  {
   "cell_type": "code",
   "execution_count": null,
   "metadata": {},
   "outputs": [],
   "source": [
    "import pandas as pd\n",
    "\n",
    "file = pd.read_csv('../csvfiles/weather.csv', sep=',').iloc[:, 1:-1]\n",
    "\n",
    "for linenum in range(len(file)):\n",
    "    line = file.loc[linenum]\n",
    "    country     = line.iloc[0]\n",
    "    city        = line.iloc[1]\n",
    "    temps       = line.iloc[2:].astype(float)\n",
    "    max         = temps.max()\n",
    "    mean        = round(temps.mean(),2)\n",
    "    min         = temps.min()\n",
    "    print(f\"{country}, {city}: {min}/{mean}/{max}\")"
   ]
  }
 ],
 "metadata": {
  "kernelspec": {
   "display_name": ".venv",
   "language": "python",
   "name": "python3"
  },
  "language_info": {
   "codemirror_mode": {
    "name": "ipython",
    "version": 3
   },
   "file_extension": ".py",
   "mimetype": "text/x-python",
   "name": "python",
   "nbconvert_exporter": "python",
   "pygments_lexer": "ipython3",
   "version": "3.12.2"
  }
 },
 "nbformat": 4,
 "nbformat_minor": 2
}
